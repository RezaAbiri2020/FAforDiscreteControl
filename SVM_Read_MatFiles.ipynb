{
 "cells": [
  {
   "cell_type": "markdown",
   "metadata": {},
   "source": [
    "# To perform multi-classifier SVM for pure signals for 8 targets\n"
   ]
  },
  {
   "cell_type": "markdown",
   "metadata": {},
   "source": [
    "# Organzing and loading the data for all related days "
   ]
  },
  {
   "cell_type": "code",
   "execution_count": 2,
   "metadata": {},
   "outputs": [
    {
     "name": "stdout",
     "output_type": "stream",
     "text": [
      "Session:112049\n"
     ]
    }
   ],
   "source": [
    "# clean the memory \n",
    "\n",
    "\n",
    "# loading the library\n",
    "import numpy as np\n",
    "import os\n",
    "import os.path\n",
    "import scipy.io\n",
    "from scipy.io import loadmat\n",
    "import pickle\n",
    "import hdf5storage as hdf5s\n",
    "import h5py\n",
    "\n",
    "# Experiment info \n",
    "# loading the imagined data\n",
    "\n",
    "# initilize the values\n",
    "class structtype():\n",
    "    pass\n",
    "\n",
    "ExptDays = list(['20201113'])\n",
    "NumDay = len(ExptDays);\n",
    "SessionDay = [ structtype() for i in range(NumDay)]\n",
    "SessionDay[0].hhmmss = list(['112049','113417'])\n",
    "\n",
    "\n",
    "# finding single trials\n",
    "\n",
    "ID1 = 0;\n",
    "ID2 = 0;\n",
    "ID3 = 0;\n",
    "ID4 = 0;\n",
    "ID5 = 0;\n",
    "ID6 = 0;\n",
    "ID7 = 0;\n",
    "ID8 = 0;\n",
    "\n",
    "\n",
    "Trials_T1 = np.empty((0,128), dtype=float)\n",
    "Trials_T2 = np.empty((0,128), dtype=float)\n",
    "Trials_T3 = np.empty((0,128), dtype=float)\n",
    "Trials_T4 = np.empty((0,128), dtype=float)\n",
    "Trials_T5 = np.empty((0,128), dtype=float)\n",
    "Trials_T6 = np.empty((0,128), dtype=float)\n",
    "Trials_T7 = np.empty((0,128), dtype=float)\n",
    "Trials_T8 = np.empty((0,128), dtype=float)\n",
    "\n",
    "# loading the day/block/session data from the location\n",
    "for Day in [0]:#[0, 1, 2]\n",
    "    for Se in  [0]: #range (len(SessionDay[Day].hhmmss)):\n",
    "\n",
    "        print('Session:'+ SessionDay[Day].hhmmss[Se])\n",
    "        #DataPath =os.path.join('E:','\\Bravo1','CursorPlatform','Data_Python',ExptDays[Day],'GangulyServer','DiscreteArrow',SessionDay[Day].hhmmss[Se],'BCI_Fixed')\n",
    "        DataPath =os.path.join('E:','\\BRAVO1','CursorPlatform','Data',ExptDays[Day],'GangulyServer',ExptDays[Day],'CenterOut',SessionDay[Day].hhmmss[Se],'Imagined')\n",
    "       \n",
    "        datadir = os.listdir(DataPath)\n",
    "        \n",
    "        mat_data = hdf5s.loadmat(DataPath+'/'+datadir[1])\n",
    "      "
   ]
  },
  {
   "cell_type": "code",
   "execution_count": 3,
   "metadata": {},
   "outputs": [
    {
     "data": {
      "text/plain": [
       "h5py._hl.files.File"
      ]
     },
     "execution_count": 3,
     "metadata": {},
     "output_type": "execute_result"
    }
   ],
   "source": [
    "mat11_data = h5py.File('E:/BRAVO1/CursorPlatform/Data/20201113/GangulyServer/20201113/CenterOut/112049/Imagined/Data0001.mat')\n",
    "type(mat11_data)"
   ]
  },
  {
   "cell_type": "code",
   "execution_count": 4,
   "metadata": {},
   "outputs": [
    {
     "data": {
      "text/plain": [
       "<HDF5 group \"/TrialData\" (28 members)>"
      ]
     },
     "execution_count": 4,
     "metadata": {},
     "output_type": "execute_result"
    }
   ],
   "source": [
    "mat11_data['TrialData']"
   ]
  },
  {
   "cell_type": "code",
   "execution_count": 5,
   "metadata": {},
   "outputs": [
    {
     "data": {
      "text/plain": [
       "<HDF5 dataset \"Fs\": shape (1, 1), type \"<f8\">"
      ]
     },
     "execution_count": 5,
     "metadata": {},
     "output_type": "execute_result"
    }
   ],
   "source": [
    "mat11_data['TrialData']['Params']['Fs']"
   ]
  },
  {
   "cell_type": "code",
   "execution_count": 6,
   "metadata": {},
   "outputs": [
    {
     "data": {
      "text/plain": [
       "<KeysViewHDF5 ['#refs#', '#subsystem#', 'TrialData']>"
      ]
     },
     "execution_count": 6,
     "metadata": {},
     "output_type": "execute_result"
    }
   ],
   "source": [
    "mat11_data.keys()"
   ]
  },
  {
   "cell_type": "code",
   "execution_count": 8,
   "metadata": {},
   "outputs": [
    {
     "data": {
      "text/plain": [
       "array([1000.])"
      ]
     },
     "execution_count": 8,
     "metadata": {},
     "output_type": "execute_result"
    }
   ],
   "source": [
    "mat12_data = mat11_data['TrialData']['Params']['Fs']\n",
    "fs = mat12_data[0]\n",
    "fs"
   ]
  },
  {
   "cell_type": "code",
   "execution_count": 9,
   "metadata": {},
   "outputs": [
    {
     "data": {
      "text/plain": [
       "<HDF5 dataset \"BroadbandData\": shape (51, 1), type \"|O\">"
      ]
     },
     "execution_count": 9,
     "metadata": {},
     "output_type": "execute_result"
    }
   ],
   "source": [
    "mat13_data = mat11_data['TrialData']['BroadbandData']\n",
    "mat13_data"
   ]
  },
  {
   "cell_type": "code",
   "execution_count": 10,
   "metadata": {},
   "outputs": [
    {
     "data": {
      "text/plain": [
       "array([<HDF5 object reference>], dtype=object)"
      ]
     },
     "execution_count": 10,
     "metadata": {},
     "output_type": "execute_result"
    }
   ],
   "source": [
    "mat14 = mat13_data[0]\n",
    "mat14"
   ]
  },
  {
   "cell_type": "code",
   "execution_count": 11,
   "metadata": {},
   "outputs": [
    {
     "data": {
      "text/plain": [
       "(1,)"
      ]
     },
     "execution_count": 11,
     "metadata": {},
     "output_type": "execute_result"
    }
   ],
   "source": [
    "mat14.shape"
   ]
  },
  {
   "cell_type": "code",
   "execution_count": 15,
   "metadata": {},
   "outputs": [
    {
     "data": {
      "text/plain": [
       "h5py.h5r.Reference"
      ]
     },
     "execution_count": 15,
     "metadata": {},
     "output_type": "execute_result"
    }
   ],
   "source": [
    "st = mat14[0]\n",
    "type(st)"
   ]
  },
  {
   "cell_type": "code",
   "execution_count": 16,
   "metadata": {},
   "outputs": [
    {
     "data": {
      "text/plain": [
       "b'/#refs#/Td'"
      ]
     },
     "execution_count": 16,
     "metadata": {},
     "output_type": "execute_result"
    }
   ],
   "source": [
    "name = h5py.h5r.get_name(st, mat11_data.id)\n",
    "name"
   ]
  },
  {
   "cell_type": "code",
   "execution_count": 18,
   "metadata": {},
   "outputs": [
    {
     "data": {
      "text/plain": [
       "<HDF5 dataset \"Td\": shape (128, 129), type \"<f8\">"
      ]
     },
     "execution_count": 18,
     "metadata": {},
     "output_type": "execute_result"
    }
   ],
   "source": [
    "binOne = mat11_data[name] \n",
    "binOne"
   ]
  },
  {
   "cell_type": "code",
   "execution_count": 20,
   "metadata": {},
   "outputs": [
    {
     "data": {
      "text/plain": [
       "array([[ 0.70846172,  0.48256195,  0.8932888 , ..., -0.13352832,\n",
       "        -0.37996443, -0.27728271],\n",
       "       [ 0.77066144,  0.58065383,  0.64974751, ...,  0.33882597,\n",
       "         0.40791964,  0.28700571],\n",
       "       [-0.75997945, -0.79003817, -0.54956845, ..., -0.2489813 ,\n",
       "        -0.00851158,  0.06162542],\n",
       "       ...,\n",
       "       [ 0.38675155,  0.20226035,  0.57124275, ..., -0.13833879,\n",
       "        -0.13833879, -0.40797977],\n",
       "       [ 0.38499135,  0.30133291,  0.52442207, ...,  1.11932648,\n",
       "         1.06355419,  0.70103432],\n",
       "       [ 0.22641308, -0.04587018,  0.21344721, ...,  0.21344721,\n",
       "         0.52462807,  0.35607177]])"
      ]
     },
     "execution_count": 20,
     "metadata": {},
     "output_type": "execute_result"
    }
   ],
   "source": [
    "qes = binOne[:,:]\n",
    "qes"
   ]
  },
  {
   "cell_type": "code",
   "execution_count": 22,
   "metadata": {},
   "outputs": [
    {
     "data": {
      "text/plain": [
       "(128, 129)"
      ]
     },
     "execution_count": 22,
     "metadata": {},
     "output_type": "execute_result"
    }
   ],
   "source": [
    "qes.shape"
   ]
  },
  {
   "cell_type": "code",
   "execution_count": 438,
   "metadata": {},
   "outputs": [
    {
     "data": {
      "text/plain": [
       "(84118, 128)"
      ]
     },
     "execution_count": 438,
     "metadata": {},
     "output_type": "execute_result"
    }
   ],
   "source": [
    "        # loading the trials\n",
    "        for k in range(len(datadir)):\n",
    "\n",
    "            #print('Trial:',k+1)\n",
    "            with open(DataPath+'/'+datadir[k], 'rb') as f:\n",
    "                TrialData = pickle.load(f)\n",
    "                Fs = TrialData['Params']['Fs']\n",
    "\n",
    "                # to find successful trials\n",
    "                if ExptDays[Day] == '20201002' and (len(TrialData['BroadbandData']['signals'])/Fs) < (TrialData['Params']['MaxReachTime']):\n",
    "                    #print(True)\n",
    "\n",
    "                    Bin_Num = TrialData['Params']['ClickCounter']\n",
    "                    ClickTime = Bin_Num*np.round(Fs/(TrialData['Params']['UpdateRate']))\n",
    "\n",
    "                    ECoG1 = TrialData['BroadbandData']['signals']\n",
    "\n",
    "                    if len(ECoG1) < int(ClickTime)+50:\n",
    "                        ECoG2 = ECoG1\n",
    "                    else:\n",
    "                        ECoG2 = ECoG1[(len(ECoG1)-int(ClickTime)):len(ECoG1),:]\n",
    "\n",
    "                    # for ERP case use this\n",
    "                    # ECoG3 = ECoG2[0:1000,:];\n",
    "                    #print (ECoG3.shape)\n",
    "\n",
    "                    # for including all data use this\n",
    "                    ECoG3 = ECoG2\n",
    "                    \n",
    "                    if TrialData['TargetID'] == 1:\n",
    "                        ID1 = ID1+1                   \n",
    "                        Trials_T1 = np.append(Trials_T1, ECoG3, axis=0)\n",
    "\n",
    "                    elif TrialData['TargetID'] == 2:\n",
    "                        ID2 = ID2+1\n",
    "                        Trials_T2 = np.append(Trials_T2, ECoG3, axis=0)\n",
    "\n",
    "                    elif TrialData['TargetID'] == 3:\n",
    "                        ID3 = ID3+1\n",
    "                        Trials_T3 = np.append(Trials_T3, ECoG3, axis=0)\n",
    "\n",
    "                    elif TrialData['TargetID'] == 4:\n",
    "                        ID4 = ID4+1\n",
    "                        Trials_T4 = np.append(Trials_T4, ECoG3, axis=0)\n",
    "\n",
    "                elif ExptDays[Day] in ['20201009','20201016'] and TrialData['SelectedTargetID'] == TrialData['TargetID']:\n",
    "                    \n",
    "                    Bin_Num = TrialData['Params']['ClickCounter']\n",
    "                    ClickTime = Bin_Num*np.round(Fs/(TrialData['Params']['UpdateRate']))\n",
    "                    TargetHold = sum(TrialData['TaskState']==4)* np.round(Fs/(TrialData['Params']['UpdateRate']))\n",
    "                    ECoG1 = TrialData['BroadbandData']['signals']\n",
    "                    ECoG2 = ECoG1[len(ECoG1)-(int(ClickTime)+int(TargetHold)):len(ECoG1)-int(TargetHold),:]\n",
    "                    \n",
    "                    # for ERP case use this\n",
    "                    # ECoG3 = ECoG2[0:1000,:];\n",
    "                    #print (ECoG3.shape)\n",
    "\n",
    "                    # for including all data use this\n",
    "                    ECoG3 = ECoG2\n",
    "                    \n",
    "                    if TrialData['TargetID'] == 1:\n",
    "                        ID1 = ID1+1                   \n",
    "                        Trials_T1 = np.append(Trials_T1, ECoG3, axis=0)\n",
    "\n",
    "                    elif TrialData['TargetID'] == 2:\n",
    "                        ID2 = ID2+1\n",
    "                        Trials_T2 = np.append(Trials_T2, ECoG3, axis=0)\n",
    "\n",
    "                    elif TrialData['TargetID'] == 3:\n",
    "                        ID3 = ID3+1\n",
    "                        Trials_T3 = np.append(Trials_T3, ECoG3, axis=0)\n",
    "\n",
    "                    elif TrialData['TargetID'] == 4:\n",
    "                        ID4 = ID4+1\n",
    "                        Trials_T4 = np.append(Trials_T4, ECoG3, axis=0)\n",
    "                        \n",
    "print('End of Running Section') "
   ]
  },
  {
   "cell_type": "code",
   "execution_count": 439,
   "metadata": {},
   "outputs": [
    {
     "data": {
      "text/plain": [
       "(77124, 128)"
      ]
     },
     "execution_count": 439,
     "metadata": {},
     "output_type": "execute_result"
    }
   ],
   "source": [
    "\n",
    "Trials_T4.shape"
   ]
  },
  {
   "cell_type": "code",
   "execution_count": 440,
   "metadata": {},
   "outputs": [
    {
     "data": {
      "text/plain": [
       "[<matplotlib.lines.Line2D at 0x2c652512070>]"
      ]
     },
     "execution_count": 440,
     "metadata": {},
     "output_type": "execute_result"
    },
    {
     "data": {
      "image/png": "[encoded data removed]",
      "text/plain": [
       "<Figure size 864x288 with 1 Axes>"
      ]
     },
     "metadata": {
      "needs_background": "light"
     },
     "output_type": "display_data"
    }
   ],
   "source": [
    "import matplotlib.pyplot as plt\n",
    "%matplotlib inline\n",
    "t = np.arange(1,500+1,1)\n",
    "fig = plt.figure(figsize=(12,4))\n",
    "ax = fig.add_axes([0,0,1,1])\n",
    "ax.plot(t,Trials_T4[0:500,0],'b')"
   ]
  },
  {
   "cell_type": "markdown",
   "metadata": {},
   "source": [
    "# Filtering the signals"
   ]
  },
  {
   "cell_type": "code",
   "execution_count": 441,
   "metadata": {},
   "outputs": [
    {
     "name": "stdout",
     "output_type": "stream",
     "text": [
      "Target: 0\n",
      "Target: 1\n",
      "Target: 2\n",
      "Target: 3\n",
      "End of Running Section\n"
     ]
    }
   ],
   "source": [
    "from scipy.signal import butter, filtfilt, hilbert\n",
    "import matplotlib.pyplot as plt\n",
    "\n",
    "\n",
    "All_Signal = [Trials_T1, Trials_T2, Trials_T3, Trials_T4];\n",
    "\n",
    "# initilize the values\n",
    "class structtype():\n",
    "    pass\n",
    "\n",
    "HilbertTarget = [ structtype() for i in range(4)]\n",
    "HilbertTarget[0].feature = [ structtype() for i in range(6)]\n",
    "HilbertTarget[1].feature = [ structtype() for i in range(6)]\n",
    "HilbertTarget[2].feature = [ structtype() for i in range(6)]\n",
    "HilbertTarget[3].feature = [ structtype() for i in range(6)]\n",
    "\n",
    "for target in range(4):\n",
    "    print('Target:',target)\n",
    "    Raw_Signals = All_Signal[target]\n",
    "    \n",
    "    # for delta band\n",
    "    nyq = 0.5 * Fs\n",
    "    low = 0.5/nyq\n",
    "    high = 4/nyq\n",
    "    b, a = butter(3, [low, high], btype='band')\n",
    "    Filtered = filtfilt(b,a,Raw_Signals,axis=0)\n",
    "    Hil = np.abs(hilbert(Filtered,axis=0))\n",
    "    HilbertTarget[target].feature[0] = Hil\n",
    "    \n",
    "    # for theta band\n",
    "    nyq = 0.5 * Fs\n",
    "    low = 4/nyq\n",
    "    high = 8/nyq\n",
    "    b, a = butter(3, [low, high], btype='band')\n",
    "    Filtered = filtfilt(b,a,Raw_Signals,axis=0)\n",
    "    Hil = np.abs(hilbert(Filtered,axis=0))\n",
    "    HilbertTarget[target].feature[1] = Hil\n",
    "    \n",
    "    # for alpha band\n",
    "    nyq = 0.5 * Fs\n",
    "    low = 8/nyq\n",
    "    high = 13/nyq\n",
    "    b, a = butter(3, [low, high], btype='band')\n",
    "    Filtered = filtfilt(b,a,Raw_Signals,axis=0)\n",
    "    Hil = np.abs(hilbert(Filtered,axis=0))\n",
    "    HilbertTarget[target].feature[2] = Hil\n",
    "    \n",
    "    # for beta band\n",
    "    nyq = 0.5 * Fs\n",
    "    low = 13/nyq\n",
    "    high = 30/nyq\n",
    "    b, a = butter(3, [low, high], btype='band')\n",
    "    Filtered = filtfilt(b,a,Raw_Signals,axis=0)\n",
    "    Hil = np.abs(hilbert(Filtered,axis=0))\n",
    "    HilbertTarget[target].feature[3] = Hil\n",
    "    \n",
    "    # for gamma1 band\n",
    "    nyq = 0.5 * Fs\n",
    "    low = 30/nyq\n",
    "    high = 50/nyq\n",
    "    b, a = butter(3, [low, high], btype='band')\n",
    "    Filtered = filtfilt(b,a,Raw_Signals,axis=0)\n",
    "    Hil = np.abs(hilbert(Filtered,axis=0))\n",
    "    HilbertTarget[target].feature[4] = Hil\n",
    "    \n",
    "    # for hg-lfo band\n",
    "    nyq = 0.5 * Fs\n",
    "    low = 70/nyq\n",
    "    high = 150/nyq\n",
    "    b, a = butter(3, [low, high], btype='band')\n",
    "    Filtered = filtfilt(b,a,Raw_Signals,axis=0)\n",
    "    Hil1 = np.abs(hilbert(Filtered,axis=0))\n",
    "    nyq = 0.5 * Fs\n",
    "    low = 0.5/nyq\n",
    "    high = 4/nyq\n",
    "    b, a = butter(3, [low, high], btype='band')\n",
    "    Filtered2 = filtfilt(b,a,Hil1,axis=0)\n",
    "    Hil2 = Filtered2 + Hil1.mean(0)\n",
    "    HilbertTarget[target].feature[5] = Hil2\n",
    "    \n",
    "print('End of Running Section')   "
   ]
  },
  {
   "cell_type": "code",
   "execution_count": null,
   "metadata": {},
   "outputs": [],
   "source": []
  },
  {
   "cell_type": "code",
   "execution_count": null,
   "metadata": {},
   "outputs": [],
   "source": []
  },
  {
   "cell_type": "code",
   "execution_count": null,
   "metadata": {},
   "outputs": [],
   "source": []
  },
  {
   "cell_type": "code",
   "execution_count": 442,
   "metadata": {},
   "outputs": [
    {
     "data": {
      "text/plain": [
       "(77124, 128)"
      ]
     },
     "execution_count": 442,
     "metadata": {},
     "output_type": "execute_result"
    },
    {
     "data": {
      "image/png": "[encoded data removed]",
      "text/plain": [
       "<Figure size 864x288 with 1 Axes>"
      ]
     },
     "metadata": {
      "needs_background": "light"
     },
     "output_type": "display_data"
    }
   ],
   "source": [
    "# test the signal\n",
    "#a, b = Raw_Signals.shape\n",
    "#t = np.arange(1,a+1,1)\n",
    "t = np.arange(1,500+1,1)\n",
    "fig = plt.figure(figsize=(12,4))\n",
    "ax = fig.add_axes([0,0,1,1])\n",
    "ax.plot(t,Raw_Signals[0:500,0],'b')\n",
    "ax.plot(t,Filtered[0:500,0],'r')\n",
    "ax.plot(t,Hil1[0:500,0],'k')\n",
    "Forplot = HilbertTarget[3].feature[5]\n",
    "ax.plot(t,Forplot[0:500,0],'g')\n",
    "ax.set_xlim([0,500])\n",
    "#ax.set_ylim([0,2])\n",
    "Raw_Signals.shape"
   ]
  },
  {
   "cell_type": "markdown",
   "metadata": {},
   "source": [
    "# ERP of single trials...will work later"
   ]
  },
  {
   "cell_type": "markdown",
   "metadata": {},
   "source": [
    "# Factor Analysis for concatanated single-trials per targets (will have 4FA)"
   ]
  },
  {
   "cell_type": "code",
   "execution_count": 443,
   "metadata": {},
   "outputs": [
    {
     "name": "stdout",
     "output_type": "stream",
     "text": [
      "Target: 0\n",
      "Target: 1\n",
      "Target: 2\n",
      "Target: 3\n"
     ]
    }
   ],
   "source": [
    "from sklearn.decomposition import FactorAnalysis\n",
    "from factor_analyzer import FactorAnalyzer\n",
    "import pandas as pd\n",
    "\n",
    "    \n",
    "# initilize the values\n",
    "class structtype():\n",
    "    pass\n",
    "# for FA signals\n",
    "FASignalTarget = [ structtype() for i in range(4)]\n",
    "FASignalTarget[0].feature = [ structtype() for i in range(6)]\n",
    "FASignalTarget[1].feature = [ structtype() for i in range(6)]\n",
    "FASignalTarget[2].feature = [ structtype() for i in range(6)]\n",
    "FASignalTarget[3].feature = [ structtype() for i in range(6)]\n",
    "\n",
    "# for FA weights\n",
    "FAWeightTarget = [ structtype() for i in range(4)]\n",
    "FAWeightTarget[0].feature = [ structtype() for i in range(6)]\n",
    "FAWeightTarget[1].feature = [ structtype() for i in range(6)]\n",
    "FAWeightTarget[2].feature = [ structtype() for i in range(6)]\n",
    "FAWeightTarget[3].feature = [ structtype() for i in range(6)]\n",
    "\n",
    "\n",
    "for target in range(4):\n",
    "    print('Target:',target)\n",
    "    \n",
    "    for Fe in range(6): \n",
    "        #transformer = FactorAnalysis(n_components=10, random_state=0)\n",
    "        #FASignalTarget[target].feature[Fe] = transformer.fit_transform(HilbertTarget[target].feature[Fe])\n",
    "        \n",
    "        fa = FactorAnalyzer(10,rotation=None)\n",
    "        fa.fit(HilbertTarget[target].feature[Fe])\n",
    "        FAWeightTarget[target].feature[Fe] = fa.loadings_\n",
    "        FASignalTarget[target].feature[Fe] = (HilbertTarget[target].feature[Fe]) @ (FAWeightTarget[target].feature[Fe])\n",
    "        \n",
    "        \n"
   ]
  },
  {
   "cell_type": "code",
   "execution_count": 444,
   "metadata": {},
   "outputs": [
    {
     "data": {
      "text/plain": [
       "(77124, 10)"
      ]
     },
     "execution_count": 444,
     "metadata": {},
     "output_type": "execute_result"
    }
   ],
   "source": [
    "Activation_Signal = FASignalTarget[3].feature[5]\n",
    "Activation_Signal.shape\n"
   ]
  },
  {
   "cell_type": "code",
   "execution_count": 445,
   "metadata": {},
   "outputs": [
    {
     "data": {
      "text/plain": [
       "(77124, 10)"
      ]
     },
     "execution_count": 445,
     "metadata": {},
     "output_type": "execute_result"
    },
    {
     "data": {
      "image/png": "[encoded data removed]",
      "text/plain": [
       "<Figure size 864x288 with 1 Axes>"
      ]
     },
     "metadata": {
      "needs_background": "light"
     },
     "output_type": "display_data"
    }
   ],
   "source": [
    "# test the factors\n",
    "%matplotlib inline\n",
    "Activation_Signal =(FASignalTarget[3].feature[5])\n",
    "t = np.arange(1,5000+1,1)\n",
    "fig = plt.figure(figsize=(12,4))\n",
    "ax = fig.add_axes([0,0,1,1])\n",
    "ax.plot(t,Activation_Signal[0:5000,0],'b')\n",
    "#ax.set_xlim([0,1])\n",
    "#ax.set_ylim([0,2])\n",
    "\n",
    "Activation_Signal.shape"
   ]
  },
  {
   "cell_type": "code",
   "execution_count": 448,
   "metadata": {},
   "outputs": [
    {
     "data": {
      "text/plain": [
       "<matplotlib.legend.Legend at 0x2c651e86d90>"
      ]
     },
     "execution_count": 448,
     "metadata": {},
     "output_type": "execute_result"
    }
   ],
   "source": [
    "# 3D plot for the first 3 FA signals; choose the options \n",
    "import matplotlib.pyplot as plt\n",
    "from mpl_toolkits.mplot3d import axes3d\n",
    "\n",
    "%matplotlib qt\n",
    "#%matplotlib notebook\n",
    "\n",
    "#choose this option\n",
    "Fe = 5;\n",
    "ax = plt.axes(projection='3d')\n",
    "ax.set_xlabel('Dim1')\n",
    "ax.set_ylabel('Dim2')\n",
    "ax.set_zlabel('Dim3')\n",
    "ax.set_xlim([0,15])\n",
    "ax.set_ylim([-5,5])\n",
    "ax.set_zlim([-5,5])\n",
    "\n",
    "ListMarker = ['blue','red','orange','green']\n",
    "ListLegend = ['Target1','Target2','Target3','target4']\n",
    "\n",
    "for target in range(4):\n",
    "    \n",
    "    # Data for a three-dimensional line\n",
    "    Activation_Signal = FASignalTarget[target].feature[Fe]\n",
    "    xline = Activation_Signal[:,0]\n",
    "    yline = Activation_Signal[:,1]\n",
    "    zline = Activation_Signal[:,2]\n",
    "    ax.plot3D(xline, yline, zline,color=ListMarker[target], label=ListLegend[target])\n",
    "    \n",
    "plt.show()\n",
    "ax.legend(loc=0)\n",
    "\n",
    "\n"
   ]
  },
  {
   "cell_type": "markdown",
   "metadata": {},
   "source": [
    "# Cross projection of FA for later test in SVM"
   ]
  },
  {
   "cell_type": "code",
   "execution_count": 341,
   "metadata": {},
   "outputs": [],
   "source": [
    "# choose the feature you want to project the signals through that\n",
    "Fe = 5;\n",
    "\n",
    "# initilize the values\n",
    "class structtype():\n",
    "    pass\n",
    "# for FA signals\n",
    "FASignalProj = [ structtype() for i in range(4)]\n",
    "FASignalProj[0].ProjectedTarget = [ structtype() for i in range(4)]\n",
    "FASignalProj[1].ProjectedTarget = [ structtype() for i in range(4)]\n",
    "FASignalProj[2].ProjectedTarget = [ structtype() for i in range(4)]\n",
    "FASignalProj[3].ProjectedTarget = [ structtype() for i in range(4)]\n",
    "\n",
    "for Target_Mirror in range(4):\n",
    "    for Target in range(4):\n",
    "        FASignalProj[Target_Mirror].ProjectedTarget[Target] = (HilbertTarget[Target].feature[Fe]) @ (FAWeightTarget[Target_Mirror].feature[Fe]) \n",
    "        \n"
   ]
  },
  {
   "cell_type": "markdown",
   "metadata": {},
   "source": [
    "# Performing binary-classifier SVM for pure features or FA signals"
   ]
  },
  {
   "cell_type": "code",
   "execution_count": 412,
   "metadata": {},
   "outputs": [],
   "source": [
    "q = FASignalTarget[0].feature[5]"
   ]
  },
  {
   "cell_type": "code",
   "execution_count": 413,
   "metadata": {},
   "outputs": [
    {
     "data": {
      "text/plain": [
       "(16000, 10)"
      ]
     },
     "execution_count": 413,
     "metadata": {},
     "output_type": "execute_result"
    }
   ],
   "source": [
    "q.shape"
   ]
  },
  {
   "cell_type": "code",
   "execution_count": 449,
   "metadata": {},
   "outputs": [],
   "source": [
    "import pandas as pd\n",
    "import numpy as np\n",
    "import matplotlib.pyplot as plt\n",
    "from sklearn.model_selection import train_test_split"
   ]
  },
  {
   "cell_type": "code",
   "execution_count": 506,
   "metadata": {},
   "outputs": [],
   "source": [
    "# without FA\n",
    "X_T1 = HilbertTarget[0].feature[5]\n",
    "X_T2 = HilbertTarget[1].feature[5]\n",
    "\n",
    "# with FA\n",
    "#X_T1 = FASignalTarget[0].feature[5]\n",
    "#X_T2 = FASignalTarget[1].feature[5]\n",
    "\n",
    "# balance the data\n",
    "Indx = min(X_T1.shape[0], X_T2.shape[0])\n",
    "step = 1\n",
    "KeepSample = 5000 \n",
    "\n",
    "X_heldout_T1 = X_T1[(Indx-KeepSample):Indx:step,:]\n",
    "X_heldout_T2 = X_T2[(Indx-KeepSample):Indx:step,:]\n",
    "\n",
    "y_heldout_T1 = np.zeros((X_heldout_T1.shape[0],1))\n",
    "y_heldout_T2 = np.ones((X_heldout_T2.shape[0],1))\n",
    "\n",
    "X_heldout = np.append(X_heldout_T1, X_heldout_T2, axis=0) \n",
    "y_heldout = np.append(y_heldout_T1, y_heldout_T2, axis=0)\n",
    "# flatten the array\n",
    "y_heldout =y_heldout.ravel()\n",
    "\n",
    "X_T1 = X_T1[0:(Indx-KeepSample):step,:]\n",
    "X_T2 = X_T2[0:(Indx-KeepSample):step,:]\n",
    "\n",
    "y_T1 = np.zeros((X_T1.shape[0],1))\n",
    "y_T2 = np.ones((X_T2.shape[0],1))\n",
    "\n",
    "X = np.append(X_T1, X_T2, axis=0) \n",
    "y = np.append(y_T1, y_T2, axis=0)\n",
    "# flatten the array\n",
    "y =y.ravel()\n",
    "\n",
    "X_train, X_test, y_train, y_test = train_test_split(X, y, test_size=0.33, random_state=42)"
   ]
  },
  {
   "cell_type": "code",
   "execution_count": 507,
   "metadata": {},
   "outputs": [
    {
     "data": {
      "text/plain": [
       "(73880, 128)"
      ]
     },
     "execution_count": 507,
     "metadata": {},
     "output_type": "execute_result"
    }
   ],
   "source": [
    "X_T1.shape"
   ]
  },
  {
   "cell_type": "code",
   "execution_count": 508,
   "metadata": {},
   "outputs": [
    {
     "data": {
      "text/plain": [
       "SVC()"
      ]
     },
     "execution_count": 508,
     "metadata": {},
     "output_type": "execute_result"
    }
   ],
   "source": [
    "from sklearn.svm import SVC\n",
    "model_binary = SVC(C=1.0, kernel='rbf', degree=3, gamma='scale', coef0=0.0, shrinking=True, probability=False, tol=0.001, cache_size=200, class_weight=None, verbose=False, max_iter=-1, decision_function_shape='ovr', break_ties=False, random_state=None)\n",
    "model_binary.fit(X_train,y_train)\n"
   ]
  },
  {
   "cell_type": "code",
   "execution_count": 509,
   "metadata": {},
   "outputs": [
    {
     "data": {
      "text/plain": [
       "(147760,)"
      ]
     },
     "execution_count": 509,
     "metadata": {},
     "output_type": "execute_result"
    }
   ],
   "source": [
    "y.shape"
   ]
  },
  {
   "cell_type": "code",
   "execution_count": 510,
   "metadata": {},
   "outputs": [],
   "source": [
    "predictions_binary = model_binary.predict(X_test)"
   ]
  },
  {
   "cell_type": "code",
   "execution_count": 511,
   "metadata": {},
   "outputs": [],
   "source": [
    "from sklearn.metrics import classification_report, confusion_matrix"
   ]
  },
  {
   "cell_type": "code",
   "execution_count": 512,
   "metadata": {},
   "outputs": [
    {
     "name": "stdout",
     "output_type": "stream",
     "text": [
      "[[24320     0]\n",
      " [    0 24441]]\n",
      "\n",
      "\n",
      "              precision    recall  f1-score   support\n",
      "\n",
      "         0.0       1.00      1.00      1.00     24320\n",
      "         1.0       1.00      1.00      1.00     24441\n",
      "\n",
      "    accuracy                           1.00     48761\n",
      "   macro avg       1.00      1.00      1.00     48761\n",
      "weighted avg       1.00      1.00      1.00     48761\n",
      "\n"
     ]
    }
   ],
   "source": [
    "print(confusion_matrix(y_test, predictions_binary))\n",
    "print('\\n')\n",
    "print(classification_report(y_test,predictions_binary))"
   ]
  },
  {
   "cell_type": "code",
   "execution_count": 513,
   "metadata": {},
   "outputs": [
    {
     "data": {
      "text/plain": [
       "(2065, 128)"
      ]
     },
     "execution_count": 513,
     "metadata": {},
     "output_type": "execute_result"
    }
   ],
   "source": [
    "# get support vectors\n",
    "NumSV = model_binary.support_vectors_\n",
    "NumSV.shape"
   ]
  },
  {
   "cell_type": "code",
   "execution_count": 514,
   "metadata": {},
   "outputs": [
    {
     "data": {
      "text/plain": [
       "array([   29,   169,   217, ..., 98769, 98779, 98881])"
      ]
     },
     "execution_count": 514,
     "metadata": {},
     "output_type": "execute_result"
    }
   ],
   "source": [
    "# get indices of support vectors\n",
    "model_binary.support_"
   ]
  },
  {
   "cell_type": "code",
   "execution_count": 515,
   "metadata": {},
   "outputs": [
    {
     "data": {
      "text/plain": [
       "array([ 961, 1104])"
      ]
     },
     "execution_count": 515,
     "metadata": {},
     "output_type": "execute_result"
    }
   ],
   "source": [
    "# get number of support vectors for each class\n",
    "model_binary.n_support_"
   ]
  },
  {
   "cell_type": "code",
   "execution_count": 517,
   "metadata": {},
   "outputs": [
    {
     "name": "stdout",
     "output_type": "stream",
     "text": [
      "[[4817  183]\n",
      " [ 122 4878]]\n",
      "\n",
      "\n",
      "              precision    recall  f1-score   support\n",
      "\n",
      "         0.0       0.98      0.96      0.97      5000\n",
      "         1.0       0.96      0.98      0.97      5000\n",
      "\n",
      "    accuracy                           0.97     10000\n",
      "   macro avg       0.97      0.97      0.97     10000\n",
      "weighted avg       0.97      0.97      0.97     10000\n",
      "\n"
     ]
    }
   ],
   "source": [
    "# testing the held_out data\n",
    "predictions_heldout_binary = model_binary.predict(X_heldout)\n",
    "print(confusion_matrix(y_heldout, predictions_heldout_binary))\n",
    "print('\\n')\n",
    "print(classification_report(y_heldout, predictions_heldout_binary))\n"
   ]
  },
  {
   "cell_type": "markdown",
   "metadata": {},
   "source": [
    "# Parameter adjustment for binary-classifier SVM"
   ]
  },
  {
   "cell_type": "code",
   "execution_count": 364,
   "metadata": {},
   "outputs": [],
   "source": [
    "from sklearn.model_selection import GridSearchCV"
   ]
  },
  {
   "cell_type": "code",
   "execution_count": 365,
   "metadata": {},
   "outputs": [],
   "source": [
    "param_grid_binary = {'C':[0.1, 1, 10, 100, 1000], 'gamma':[1, 0.1, 0.01, 0.001, 0.0001]}"
   ]
  },
  {
   "cell_type": "code",
   "execution_count": 366,
   "metadata": {},
   "outputs": [],
   "source": [
    "grid_binary = GridSearchCV(SVC(),param_grid_binary, verbose=3)"
   ]
  },
  {
   "cell_type": "code",
   "execution_count": 367,
   "metadata": {},
   "outputs": [
    {
     "name": "stdout",
     "output_type": "stream",
     "text": [
      "Fitting 5 folds for each of 25 candidates, totalling 125 fits\n",
      "[CV] C=0.1, gamma=1 ..................................................\n"
     ]
    },
    {
     "name": "stderr",
     "output_type": "stream",
     "text": [
      "[Parallel(n_jobs=1)]: Using backend SequentialBackend with 1 concurrent workers.\n"
     ]
    },
    {
     "name": "stdout",
     "output_type": "stream",
     "text": [
      "[CV] ...................... C=0.1, gamma=1, score=0.993, total=   2.2s\n",
      "[CV] C=0.1, gamma=1 ..................................................\n"
     ]
    },
    {
     "name": "stderr",
     "output_type": "stream",
     "text": [
      "[Parallel(n_jobs=1)]: Done   1 out of   1 | elapsed:    2.1s remaining:    0.0s\n"
     ]
    },
    {
     "name": "stdout",
     "output_type": "stream",
     "text": [
      "[CV] ...................... C=0.1, gamma=1, score=0.994, total=   2.3s\n",
      "[CV] C=0.1, gamma=1 ..................................................\n"
     ]
    },
    {
     "name": "stderr",
     "output_type": "stream",
     "text": [
      "[Parallel(n_jobs=1)]: Done   2 out of   2 | elapsed:    4.4s remaining:    0.0s\n"
     ]
    },
    {
     "name": "stdout",
     "output_type": "stream",
     "text": [
      "[CV] ...................... C=0.1, gamma=1, score=0.991, total=   2.2s\n",
      "[CV] C=0.1, gamma=1 ..................................................\n",
      "[CV] ...................... C=0.1, gamma=1, score=0.993, total=   2.2s\n",
      "[CV] C=0.1, gamma=1 ..................................................\n",
      "[CV] ...................... C=0.1, gamma=1, score=0.992, total=   2.2s\n",
      "[CV] C=0.1, gamma=0.1 ................................................\n",
      "[CV] .................... C=0.1, gamma=0.1, score=0.987, total=   4.4s\n",
      "[CV] C=0.1, gamma=0.1 ................................................\n",
      "[CV] .................... C=0.1, gamma=0.1, score=0.988, total=   4.5s\n",
      "[CV] C=0.1, gamma=0.1 ................................................\n",
      "[CV] .................... C=0.1, gamma=0.1, score=0.984, total=   4.4s\n",
      "[CV] C=0.1, gamma=0.1 ................................................\n",
      "[CV] .................... C=0.1, gamma=0.1, score=0.987, total=   4.4s\n",
      "[CV] C=0.1, gamma=0.1 ................................................\n",
      "[CV] .................... C=0.1, gamma=0.1, score=0.987, total=   4.4s\n",
      "[CV] C=0.1, gamma=0.01 ...............................................\n",
      "[CV] ................... C=0.1, gamma=0.01, score=0.930, total=   9.3s\n",
      "[CV] C=0.1, gamma=0.01 ...............................................\n",
      "[CV] ................... C=0.1, gamma=0.01, score=0.935, total=   9.3s\n",
      "[CV] C=0.1, gamma=0.01 ...............................................\n",
      "[CV] ................... C=0.1, gamma=0.01, score=0.917, total=   9.3s\n",
      "[CV] C=0.1, gamma=0.01 ...............................................\n",
      "[CV] ................... C=0.1, gamma=0.01, score=0.930, total=   9.3s\n",
      "[CV] C=0.1, gamma=0.01 ...............................................\n",
      "[CV] ................... C=0.1, gamma=0.01, score=0.934, total=   9.3s\n",
      "[CV] C=0.1, gamma=0.001 ..............................................\n",
      "[CV] .................. C=0.1, gamma=0.001, score=0.844, total=  14.5s\n",
      "[CV] C=0.1, gamma=0.001 ..............................................\n",
      "[CV] .................. C=0.1, gamma=0.001, score=0.851, total=  14.6s\n",
      "[CV] C=0.1, gamma=0.001 ..............................................\n",
      "[CV] .................. C=0.1, gamma=0.001, score=0.832, total=  14.5s\n",
      "[CV] C=0.1, gamma=0.001 ..............................................\n",
      "[CV] .................. C=0.1, gamma=0.001, score=0.840, total=  14.6s\n",
      "[CV] C=0.1, gamma=0.001 ..............................................\n",
      "[CV] .................. C=0.1, gamma=0.001, score=0.845, total=  14.4s\n",
      "[CV] C=0.1, gamma=0.0001 .............................................\n",
      "[CV] ................. C=0.1, gamma=0.0001, score=0.531, total=  18.3s\n",
      "[CV] C=0.1, gamma=0.0001 .............................................\n",
      "[CV] ................. C=0.1, gamma=0.0001, score=0.528, total=  18.7s\n",
      "[CV] C=0.1, gamma=0.0001 .............................................\n",
      "[CV] ................. C=0.1, gamma=0.0001, score=0.526, total=  18.4s\n",
      "[CV] C=0.1, gamma=0.0001 .............................................\n",
      "[CV] ................. C=0.1, gamma=0.0001, score=0.528, total=  18.4s\n",
      "[CV] C=0.1, gamma=0.0001 .............................................\n",
      "[CV] ................. C=0.1, gamma=0.0001, score=0.534, total=  18.4s\n",
      "[CV] C=1, gamma=1 ....................................................\n",
      "[CV] ........................ C=1, gamma=1, score=1.000, total=   0.8s\n",
      "[CV] C=1, gamma=1 ....................................................\n",
      "[CV] ........................ C=1, gamma=1, score=1.000, total=   0.7s\n",
      "[CV] C=1, gamma=1 ....................................................\n",
      "[CV] ........................ C=1, gamma=1, score=0.999, total=   0.7s\n",
      "[CV] C=1, gamma=1 ....................................................\n",
      "[CV] ........................ C=1, gamma=1, score=0.999, total=   0.7s\n",
      "[CV] C=1, gamma=1 ....................................................\n",
      "[CV] ........................ C=1, gamma=1, score=1.000, total=   0.7s\n",
      "[CV] C=1, gamma=0.1 ..................................................\n",
      "[CV] ...................... C=1, gamma=0.1, score=0.990, total=   1.7s\n",
      "[CV] C=1, gamma=0.1 ..................................................\n",
      "[CV] ...................... C=1, gamma=0.1, score=0.990, total=   1.7s\n",
      "[CV] C=1, gamma=0.1 ..................................................\n",
      "[CV] ...................... C=1, gamma=0.1, score=0.988, total=   1.7s\n",
      "[CV] C=1, gamma=0.1 ..................................................\n",
      "[CV] ...................... C=1, gamma=0.1, score=0.991, total=   1.8s\n",
      "[CV] C=1, gamma=0.1 ..................................................\n",
      "[CV] ...................... C=1, gamma=0.1, score=0.989, total=   1.7s\n",
      "[CV] C=1, gamma=0.01 .................................................\n",
      "[CV] ..................... C=1, gamma=0.01, score=0.988, total=   4.5s\n",
      "[CV] C=1, gamma=0.01 .................................................\n",
      "[CV] ..................... C=1, gamma=0.01, score=0.988, total=   4.5s\n",
      "[CV] C=1, gamma=0.01 .................................................\n",
      "[CV] ..................... C=1, gamma=0.01, score=0.984, total=   4.4s\n",
      "[CV] C=1, gamma=0.01 .................................................\n",
      "[CV] ..................... C=1, gamma=0.01, score=0.986, total=   4.4s\n",
      "[CV] C=1, gamma=0.01 .................................................\n",
      "[CV] ..................... C=1, gamma=0.01, score=0.988, total=   4.5s\n",
      "[CV] C=1, gamma=0.001 ................................................\n",
      "[CV] .................... C=1, gamma=0.001, score=0.931, total=   9.4s\n",
      "[CV] C=1, gamma=0.001 ................................................\n",
      "[CV] .................... C=1, gamma=0.001, score=0.938, total=   9.5s\n",
      "[CV] C=1, gamma=0.001 ................................................\n",
      "[CV] .................... C=1, gamma=0.001, score=0.921, total=   9.4s\n",
      "[CV] C=1, gamma=0.001 ................................................\n",
      "[CV] .................... C=1, gamma=0.001, score=0.931, total=   9.4s\n",
      "[CV] C=1, gamma=0.001 ................................................\n",
      "[CV] .................... C=1, gamma=0.001, score=0.935, total=   9.4s\n",
      "[CV] C=1, gamma=0.0001 ...............................................\n",
      "[CV] ................... C=1, gamma=0.0001, score=0.844, total=  14.6s\n",
      "[CV] C=1, gamma=0.0001 ...............................................\n",
      "[CV] ................... C=1, gamma=0.0001, score=0.851, total=  14.6s\n",
      "[CV] C=1, gamma=0.0001 ...............................................\n",
      "[CV] ................... C=1, gamma=0.0001, score=0.832, total=  14.5s\n",
      "[CV] C=1, gamma=0.0001 ...............................................\n",
      "[CV] ................... C=1, gamma=0.0001, score=0.840, total=  14.5s\n",
      "[CV] C=1, gamma=0.0001 ...............................................\n",
      "[CV] ................... C=1, gamma=0.0001, score=0.845, total=  14.4s\n",
      "[CV] C=10, gamma=1 ...................................................\n",
      "[CV] ....................... C=10, gamma=1, score=1.000, total=   0.4s\n",
      "[CV] C=10, gamma=1 ...................................................\n",
      "[CV] ....................... C=10, gamma=1, score=1.000, total=   0.4s\n",
      "[CV] C=10, gamma=1 ...................................................\n",
      "[CV] ....................... C=10, gamma=1, score=1.000, total=   0.4s\n",
      "[CV] C=10, gamma=1 ...................................................\n",
      "[CV] ....................... C=10, gamma=1, score=1.000, total=   0.4s\n",
      "[CV] C=10, gamma=1 ...................................................\n",
      "[CV] ....................... C=10, gamma=1, score=1.000, total=   0.4s\n",
      "[CV] C=10, gamma=0.1 .................................................\n",
      "[CV] ..................... C=10, gamma=0.1, score=0.996, total=   0.7s\n",
      "[CV] C=10, gamma=0.1 .................................................\n",
      "[CV] ..................... C=10, gamma=0.1, score=0.997, total=   0.7s\n",
      "[CV] C=10, gamma=0.1 .................................................\n",
      "[CV] ..................... C=10, gamma=0.1, score=0.995, total=   0.7s\n",
      "[CV] C=10, gamma=0.1 .................................................\n",
      "[CV] ..................... C=10, gamma=0.1, score=0.997, total=   0.7s\n",
      "[CV] C=10, gamma=0.1 .................................................\n",
      "[CV] ..................... C=10, gamma=0.1, score=0.996, total=   0.7s\n",
      "[CV] C=10, gamma=0.01 ................................................\n"
     ]
    },
    {
     "name": "stdout",
     "output_type": "stream",
     "text": [
      "[CV] .................... C=10, gamma=0.01, score=0.989, total=   1.8s\n",
      "[CV] C=10, gamma=0.01 ................................................\n",
      "[CV] .................... C=10, gamma=0.01, score=0.990, total=   1.8s\n",
      "[CV] C=10, gamma=0.01 ................................................\n",
      "[CV] .................... C=10, gamma=0.01, score=0.987, total=   1.9s\n",
      "[CV] C=10, gamma=0.01 ................................................\n",
      "[CV] .................... C=10, gamma=0.01, score=0.990, total=   1.8s\n",
      "[CV] C=10, gamma=0.01 ................................................\n",
      "[CV] .................... C=10, gamma=0.01, score=0.989, total=   1.8s\n",
      "[CV] C=10, gamma=0.001 ...............................................\n",
      "[CV] ................... C=10, gamma=0.001, score=0.988, total=   4.6s\n",
      "[CV] C=10, gamma=0.001 ...............................................\n",
      "[CV] ................... C=10, gamma=0.001, score=0.988, total=   4.6s\n",
      "[CV] C=10, gamma=0.001 ...............................................\n",
      "[CV] ................... C=10, gamma=0.001, score=0.984, total=   4.5s\n",
      "[CV] C=10, gamma=0.001 ...............................................\n",
      "[CV] ................... C=10, gamma=0.001, score=0.987, total=   4.6s\n",
      "[CV] C=10, gamma=0.001 ...............................................\n",
      "[CV] ................... C=10, gamma=0.001, score=0.988, total=   4.6s\n",
      "[CV] C=10, gamma=0.0001 ..............................................\n",
      "[CV] .................. C=10, gamma=0.0001, score=0.932, total=   9.4s\n",
      "[CV] C=10, gamma=0.0001 ..............................................\n",
      "[CV] .................. C=10, gamma=0.0001, score=0.938, total=   9.5s\n",
      "[CV] C=10, gamma=0.0001 ..............................................\n",
      "[CV] .................. C=10, gamma=0.0001, score=0.921, total=   9.5s\n",
      "[CV] C=10, gamma=0.0001 ..............................................\n",
      "[CV] .................. C=10, gamma=0.0001, score=0.931, total=   9.4s\n",
      "[CV] C=10, gamma=0.0001 ..............................................\n",
      "[CV] .................. C=10, gamma=0.0001, score=0.936, total=   9.5s\n",
      "[CV] C=100, gamma=1 ..................................................\n",
      "[CV] ...................... C=100, gamma=1, score=1.000, total=   0.3s\n",
      "[CV] C=100, gamma=1 ..................................................\n",
      "[CV] ...................... C=100, gamma=1, score=1.000, total=   0.3s\n",
      "[CV] C=100, gamma=1 ..................................................\n",
      "[CV] ...................... C=100, gamma=1, score=1.000, total=   0.3s\n",
      "[CV] C=100, gamma=1 ..................................................\n",
      "[CV] ...................... C=100, gamma=1, score=1.000, total=   0.3s\n",
      "[CV] C=100, gamma=1 ..................................................\n",
      "[CV] ...................... C=100, gamma=1, score=1.000, total=   0.3s\n",
      "[CV] C=100, gamma=0.1 ................................................\n",
      "[CV] .................... C=100, gamma=0.1, score=1.000, total=   0.4s\n",
      "[CV] C=100, gamma=0.1 ................................................\n",
      "[CV] .................... C=100, gamma=0.1, score=1.000, total=   0.4s\n",
      "[CV] C=100, gamma=0.1 ................................................\n",
      "[CV] .................... C=100, gamma=0.1, score=1.000, total=   0.4s\n",
      "[CV] C=100, gamma=0.1 ................................................\n",
      "[CV] .................... C=100, gamma=0.1, score=1.000, total=   0.4s\n",
      "[CV] C=100, gamma=0.1 ................................................\n",
      "[CV] .................... C=100, gamma=0.1, score=1.000, total=   0.4s\n",
      "[CV] C=100, gamma=0.01 ...............................................\n",
      "[CV] ................... C=100, gamma=0.01, score=0.994, total=   0.8s\n",
      "[CV] C=100, gamma=0.01 ...............................................\n",
      "[CV] ................... C=100, gamma=0.01, score=0.992, total=   0.7s\n",
      "[CV] C=100, gamma=0.01 ...............................................\n",
      "[CV] ................... C=100, gamma=0.01, score=0.993, total=   0.7s\n",
      "[CV] C=100, gamma=0.01 ...............................................\n",
      "[CV] ................... C=100, gamma=0.01, score=0.994, total=   0.8s\n",
      "[CV] C=100, gamma=0.01 ...............................................\n",
      "[CV] ................... C=100, gamma=0.01, score=0.992, total=   0.7s\n",
      "[CV] C=100, gamma=0.001 ..............................................\n",
      "[CV] .................. C=100, gamma=0.001, score=0.989, total=   1.8s\n",
      "[CV] C=100, gamma=0.001 ..............................................\n",
      "[CV] .................. C=100, gamma=0.001, score=0.990, total=   1.8s\n",
      "[CV] C=100, gamma=0.001 ..............................................\n",
      "[CV] .................. C=100, gamma=0.001, score=0.987, total=   1.7s\n",
      "[CV] C=100, gamma=0.001 ..............................................\n",
      "[CV] .................. C=100, gamma=0.001, score=0.990, total=   1.8s\n",
      "[CV] C=100, gamma=0.001 ..............................................\n",
      "[CV] .................. C=100, gamma=0.001, score=0.989, total=   2.0s\n",
      "[CV] C=100, gamma=0.0001 .............................................\n",
      "[CV] ................. C=100, gamma=0.0001, score=0.988, total=   4.6s\n",
      "[CV] C=100, gamma=0.0001 .............................................\n",
      "[CV] ................. C=100, gamma=0.0001, score=0.988, total=   4.7s\n",
      "[CV] C=100, gamma=0.0001 .............................................\n",
      "[CV] ................. C=100, gamma=0.0001, score=0.984, total=   4.6s\n",
      "[CV] C=100, gamma=0.0001 .............................................\n",
      "[CV] ................. C=100, gamma=0.0001, score=0.987, total=   4.7s\n",
      "[CV] C=100, gamma=0.0001 .............................................\n",
      "[CV] ................. C=100, gamma=0.0001, score=0.988, total=   4.7s\n",
      "[CV] C=1000, gamma=1 .................................................\n",
      "[CV] ..................... C=1000, gamma=1, score=1.000, total=   0.3s\n",
      "[CV] C=1000, gamma=1 .................................................\n",
      "[CV] ..................... C=1000, gamma=1, score=1.000, total=   0.3s\n",
      "[CV] C=1000, gamma=1 .................................................\n",
      "[CV] ..................... C=1000, gamma=1, score=1.000, total=   0.3s\n",
      "[CV] C=1000, gamma=1 .................................................\n",
      "[CV] ..................... C=1000, gamma=1, score=1.000, total=   0.3s\n",
      "[CV] C=1000, gamma=1 .................................................\n",
      "[CV] ..................... C=1000, gamma=1, score=1.000, total=   0.3s\n",
      "[CV] C=1000, gamma=0.1 ...............................................\n",
      "[CV] ................... C=1000, gamma=0.1, score=1.000, total=   0.3s\n",
      "[CV] C=1000, gamma=0.1 ...............................................\n",
      "[CV] ................... C=1000, gamma=0.1, score=1.000, total=   0.3s\n",
      "[CV] C=1000, gamma=0.1 ...............................................\n",
      "[CV] ................... C=1000, gamma=0.1, score=1.000, total=   0.3s\n",
      "[CV] C=1000, gamma=0.1 ...............................................\n",
      "[CV] ................... C=1000, gamma=0.1, score=1.000, total=   0.3s\n",
      "[CV] C=1000, gamma=0.1 ...............................................\n",
      "[CV] ................... C=1000, gamma=0.1, score=1.000, total=   0.3s\n",
      "[CV] C=1000, gamma=0.01 ..............................................\n",
      "[CV] .................. C=1000, gamma=0.01, score=0.998, total=   0.5s\n",
      "[CV] C=1000, gamma=0.01 ..............................................\n",
      "[CV] .................. C=1000, gamma=0.01, score=0.998, total=   0.6s\n",
      "[CV] C=1000, gamma=0.01 ..............................................\n",
      "[CV] .................. C=1000, gamma=0.01, score=0.997, total=   0.5s\n",
      "[CV] C=1000, gamma=0.01 ..............................................\n",
      "[CV] .................. C=1000, gamma=0.01, score=0.999, total=   0.6s\n",
      "[CV] C=1000, gamma=0.01 ..............................................\n",
      "[CV] .................. C=1000, gamma=0.01, score=0.997, total=   0.5s\n",
      "[CV] C=1000, gamma=0.001 .............................................\n",
      "[CV] ................. C=1000, gamma=0.001, score=0.993, total=   0.8s\n",
      "[CV] C=1000, gamma=0.001 .............................................\n",
      "[CV] ................. C=1000, gamma=0.001, score=0.991, total=   0.8s\n",
      "[CV] C=1000, gamma=0.001 .............................................\n",
      "[CV] ................. C=1000, gamma=0.001, score=0.992, total=   0.8s\n",
      "[CV] C=1000, gamma=0.001 .............................................\n"
     ]
    },
    {
     "name": "stdout",
     "output_type": "stream",
     "text": [
      "[CV] ................. C=1000, gamma=0.001, score=0.993, total=   0.8s\n",
      "[CV] C=1000, gamma=0.001 .............................................\n",
      "[CV] ................. C=1000, gamma=0.001, score=0.991, total=   0.8s\n",
      "[CV] C=1000, gamma=0.0001 ............................................\n",
      "[CV] ................ C=1000, gamma=0.0001, score=0.989, total=   1.8s\n",
      "[CV] C=1000, gamma=0.0001 ............................................\n",
      "[CV] ................ C=1000, gamma=0.0001, score=0.990, total=   1.8s\n",
      "[CV] C=1000, gamma=0.0001 ............................................\n",
      "[CV] ................ C=1000, gamma=0.0001, score=0.987, total=   1.8s\n",
      "[CV] C=1000, gamma=0.0001 ............................................\n",
      "[CV] ................ C=1000, gamma=0.0001, score=0.990, total=   1.8s\n",
      "[CV] C=1000, gamma=0.0001 ............................................\n",
      "[CV] ................ C=1000, gamma=0.0001, score=0.989, total=   1.8s\n"
     ]
    },
    {
     "name": "stderr",
     "output_type": "stream",
     "text": [
      "[Parallel(n_jobs=1)]: Done 125 out of 125 | elapsed:  9.0min finished\n"
     ]
    },
    {
     "data": {
      "text/plain": [
       "GridSearchCV(estimator=SVC(),\n",
       "             param_grid={'C': [0.1, 1, 10, 100, 1000],\n",
       "                         'gamma': [1, 0.1, 0.01, 0.001, 0.0001]},\n",
       "             verbose=3)"
      ]
     },
     "execution_count": 367,
     "metadata": {},
     "output_type": "execute_result"
    }
   ],
   "source": [
    "grid_binary.fit(X_train,y_train)"
   ]
  },
  {
   "cell_type": "code",
   "execution_count": 368,
   "metadata": {},
   "outputs": [
    {
     "data": {
      "text/plain": [
       "{'C': 10, 'gamma': 1}"
      ]
     },
     "execution_count": 368,
     "metadata": {},
     "output_type": "execute_result"
    }
   ],
   "source": [
    "grid_binary.best_params_"
   ]
  },
  {
   "cell_type": "code",
   "execution_count": 369,
   "metadata": {},
   "outputs": [
    {
     "data": {
      "text/plain": [
       "SVC(C=10, gamma=1)"
      ]
     },
     "execution_count": 369,
     "metadata": {},
     "output_type": "execute_result"
    }
   ],
   "source": [
    "grid_binary.best_estimator_"
   ]
  },
  {
   "cell_type": "code",
   "execution_count": null,
   "metadata": {},
   "outputs": [],
   "source": []
  },
  {
   "cell_type": "code",
   "execution_count": 371,
   "metadata": {},
   "outputs": [],
   "source": [
    "# result on training set\n",
    "predictions_grid_binary = grid_binary.predict(X_test)"
   ]
  },
  {
   "cell_type": "code",
   "execution_count": 372,
   "metadata": {},
   "outputs": [
    {
     "name": "stdout",
     "output_type": "stream",
     "text": [
      "[[6643    0]\n",
      " [   0 6684]]\n",
      "\n",
      "\n",
      "              precision    recall  f1-score   support\n",
      "\n",
      "         0.0       1.00      1.00      1.00      6643\n",
      "         1.0       1.00      1.00      1.00      6684\n",
      "\n",
      "    accuracy                           1.00     13327\n",
      "   macro avg       1.00      1.00      1.00     13327\n",
      "weighted avg       1.00      1.00      1.00     13327\n",
      "\n"
     ]
    }
   ],
   "source": [
    "print(confusion_matrix(y_test, predictions_grid_binary))\n",
    "print('\\n')\n",
    "print(classification_report(y_test,predictions_grid_binary))"
   ]
  },
  {
   "cell_type": "code",
   "execution_count": 374,
   "metadata": {},
   "outputs": [
    {
     "name": "stdout",
     "output_type": "stream",
     "text": [
      "[[4984   16]\n",
      " [   0 5000]]\n",
      "\n",
      "\n",
      "              precision    recall  f1-score   support\n",
      "\n",
      "         0.0       1.00      1.00      1.00      5000\n",
      "         1.0       1.00      1.00      1.00      5000\n",
      "\n",
      "    accuracy                           1.00     10000\n",
      "   macro avg       1.00      1.00      1.00     10000\n",
      "weighted avg       1.00      1.00      1.00     10000\n",
      "\n"
     ]
    }
   ],
   "source": [
    "# result on held_out data\n",
    "predictions_heldout_binary = grid_binary.predict(X_heldout)\n",
    "print(confusion_matrix(y_heldout, predictions_heldout_binary))\n",
    "print('\\n')\n",
    "print(classification_report(y_heldout, predictions_heldout_binary))\n"
   ]
  },
  {
   "cell_type": "markdown",
   "metadata": {},
   "source": [
    "# Performing multi-classifier SVM for pure features or FA signals\n"
   ]
  },
  {
   "cell_type": "code",
   "execution_count": 518,
   "metadata": {},
   "outputs": [],
   "source": [
    "# without FA\n",
    "X_T1 = HilbertTarget[0].feature[5]\n",
    "X_T2 = HilbertTarget[1].feature[5]\n",
    "X_T3 = HilbertTarget[2].feature[5]\n",
    "X_T4 = HilbertTarget[3].feature[5]\n",
    "\n",
    "# with FA\n",
    "#X_T1 = FASignalTarget[0].feature[5]\n",
    "#X_T2 = FASignalTarget[1].feature[5]\n",
    "#X_T3 = FASignalTarget[2].feature[5]\n",
    "#X_T4 = FASignalTarget[3].feature[5]\n",
    "\n",
    "# balance the data\n",
    "Indx = min(X_T1.shape[0], X_T2.shape[0],X_T3.shape[0],X_T4.shape[0])\n",
    "step = 1\n",
    "KeepSample = 5000 \n",
    "\n",
    "X_heldout_T1 = X_T1[(Indx-KeepSample):Indx:step,:]\n",
    "X_heldout_T2 = X_T2[(Indx-KeepSample):Indx:step,:]\n",
    "X_heldout_T3 = X_T3[(Indx-KeepSample):Indx:step,:]\n",
    "X_heldout_T4 = X_T4[(Indx-KeepSample):Indx:step,:]\n",
    "\n",
    "y_heldout_T1 = np.zeros((X_heldout_T1.shape[0],1))\n",
    "y_heldout_T2 = np.ones((X_heldout_T2.shape[0],1))\n",
    "y_heldout_T3 = 2*np.ones((X_heldout_T3.shape[0],1))\n",
    "y_heldout_T4 = 3*np.ones((X_heldout_T4.shape[0],1))\n",
    "\n",
    "X_heldout = np.concatenate((X_heldout_T1, X_heldout_T2, X_heldout_T3, X_heldout_T4), axis=0) \n",
    "y_heldout = np.concatenate((y_heldout_T1, y_heldout_T2, y_heldout_T3, y_heldout_T4), axis=0)\n",
    "# flatten the array\n",
    "y_heldout =y_heldout.ravel()\n",
    "\n",
    "X_T1 = X_T1[0:(Indx-KeepSample):step,:]\n",
    "X_T2 = X_T2[0:(Indx-KeepSample):step,:]\n",
    "X_T3 = X_T3[0:(Indx-KeepSample):step,:]\n",
    "X_T4 = X_T4[0:(Indx-KeepSample):step,:]\n",
    "\n",
    "y_T1 = np.zeros((X_T1.shape[0],1))\n",
    "y_T2 = np.ones((X_T2.shape[0],1))\n",
    "y_T3 = 2*np.ones((X_T3.shape[0],1))\n",
    "y_T4 = 3*np.ones((X_T4.shape[0],1))\n",
    "\n",
    "X = np.concatenate((X_T1, X_T2, X_T3, X_T4), axis=0) \n",
    "y = np.concatenate((y_T1, y_T2, y_T3, y_T4), axis=0)\n",
    "# flatten the array\n",
    "y =y.ravel()\n",
    "\n",
    "X_train, X_test, y_train, y_test = train_test_split(X, y, test_size=0.33, random_state=42)"
   ]
  },
  {
   "cell_type": "code",
   "execution_count": 519,
   "metadata": {},
   "outputs": [
    {
     "data": {
      "text/plain": [
       "(193292, 128)"
      ]
     },
     "execution_count": 519,
     "metadata": {},
     "output_type": "execute_result"
    }
   ],
   "source": [
    "X_train.shape"
   ]
  },
  {
   "cell_type": "code",
   "execution_count": 520,
   "metadata": {},
   "outputs": [
    {
     "data": {
      "text/plain": [
       "SVC()"
      ]
     },
     "execution_count": 520,
     "metadata": {},
     "output_type": "execute_result"
    }
   ],
   "source": [
    "from sklearn.svm import SVC\n",
    "model_multi = SVC(C=1.0, kernel='rbf', degree=3, gamma='scale', coef0=0.0, shrinking=True, probability=False, tol=0.001, cache_size=200, class_weight=None, verbose=False, max_iter=-1, decision_function_shape='ovr', break_ties=False, random_state=None)\n",
    "model_multi.fit(X_train,y_train)\n",
    "SVC()"
   ]
  },
  {
   "cell_type": "code",
   "execution_count": 521,
   "metadata": {},
   "outputs": [
    {
     "data": {
      "text/plain": [
       "(26655, 128)"
      ]
     },
     "execution_count": 521,
     "metadata": {},
     "output_type": "execute_result"
    }
   ],
   "source": [
    "# get support vectors\n",
    "NumSV = model_multi.support_vectors_\n",
    "NumSV.shape"
   ]
  },
  {
   "cell_type": "code",
   "execution_count": 522,
   "metadata": {},
   "outputs": [
    {
     "name": "stdout",
     "output_type": "stream",
     "text": [
      "[[23730     0     0     0]\n",
      " [    0 23685     0     0]\n",
      " [    0     0 23855     0]\n",
      " [    0     0     0 23934]]\n",
      "\n",
      "\n",
      "              precision    recall  f1-score   support\n",
      "\n",
      "         0.0       1.00      1.00      1.00     23730\n",
      "         1.0       1.00      1.00      1.00     23685\n",
      "         2.0       1.00      1.00      1.00     23855\n",
      "         3.0       1.00      1.00      1.00     23934\n",
      "\n",
      "    accuracy                           1.00     95204\n",
      "   macro avg       1.00      1.00      1.00     95204\n",
      "weighted avg       1.00      1.00      1.00     95204\n",
      "\n"
     ]
    }
   ],
   "source": [
    "# testing the trainig result\n",
    "predictions_multi = model_multi.predict(X_test)\n",
    "print(confusion_matrix(y_test, predictions_multi))\n",
    "print('\\n')\n",
    "print(classification_report(y_test, predictions_multi))\n"
   ]
  },
  {
   "cell_type": "code",
   "execution_count": 523,
   "metadata": {},
   "outputs": [
    {
     "name": "stdout",
     "output_type": "stream",
     "text": [
      "[[4635   12  276   77]\n",
      " [ 144 3700  518  638]\n",
      " [ 512  622 3329  537]\n",
      " [  82  620  409 3889]]\n",
      "\n",
      "\n",
      "              precision    recall  f1-score   support\n",
      "\n",
      "         0.0       0.86      0.93      0.89      5000\n",
      "         1.0       0.75      0.74      0.74      5000\n",
      "         2.0       0.73      0.67      0.70      5000\n",
      "         3.0       0.76      0.78      0.77      5000\n",
      "\n",
      "    accuracy                           0.78     20000\n",
      "   macro avg       0.78      0.78      0.78     20000\n",
      "weighted avg       0.78      0.78      0.78     20000\n",
      "\n"
     ]
    }
   ],
   "source": [
    "# testing the held_out data\n",
    "predictions_heldout_multi = model_multi.predict(X_heldout)\n",
    "print(confusion_matrix(y_heldout, predictions_heldout_multi))\n",
    "print('\\n')\n",
    "print(classification_report(y_heldout, predictions_heldout_multi))"
   ]
  },
  {
   "cell_type": "markdown",
   "metadata": {},
   "source": [
    "# Parameter adjustment for multi-classifier SVM"
   ]
  },
  {
   "cell_type": "code",
   "execution_count": null,
   "metadata": {},
   "outputs": [
    {
     "name": "stdout",
     "output_type": "stream",
     "text": [
      "Fitting 5 folds for each of 25 candidates, totalling 125 fits\n",
      "[CV] C=0.1, gamma=1 ..................................................\n"
     ]
    },
    {
     "name": "stderr",
     "output_type": "stream",
     "text": [
      "[Parallel(n_jobs=1)]: Using backend SequentialBackend with 1 concurrent workers.\n"
     ]
    },
    {
     "name": "stdout",
     "output_type": "stream",
     "text": [
      "[CV] ...................... C=0.1, gamma=1, score=0.855, total=47.1min\n",
      "[CV] C=0.1, gamma=1 ..................................................\n"
     ]
    },
    {
     "name": "stderr",
     "output_type": "stream",
     "text": [
      "[Parallel(n_jobs=1)]: Done   1 out of   1 | elapsed: 47.1min remaining:    0.0s\n"
     ]
    },
    {
     "name": "stdout",
     "output_type": "stream",
     "text": [
      "[CV] ...................... C=0.1, gamma=1, score=0.857, total=46.9min\n",
      "[CV] C=0.1, gamma=1 ..................................................\n"
     ]
    },
    {
     "name": "stderr",
     "output_type": "stream",
     "text": [
      "[Parallel(n_jobs=1)]: Done   2 out of   2 | elapsed: 94.1min remaining:    0.0s\n"
     ]
    },
    {
     "name": "stdout",
     "output_type": "stream",
     "text": [
      "[CV] ...................... C=0.1, gamma=1, score=0.858, total=46.8min\n",
      "[CV] C=0.1, gamma=1 ..................................................\n",
      "[CV] ...................... C=0.1, gamma=1, score=0.857, total=46.5min\n",
      "[CV] C=0.1, gamma=1 ..................................................\n",
      "[CV] ...................... C=0.1, gamma=1, score=0.858, total=46.6min\n",
      "[CV] C=0.1, gamma=0.1 ................................................\n",
      "[CV] .................... C=0.1, gamma=0.1, score=0.792, total=81.5min\n",
      "[CV] C=0.1, gamma=0.1 ................................................\n",
      "[CV] .................... C=0.1, gamma=0.1, score=0.788, total=86.1min\n",
      "[CV] C=0.1, gamma=0.1 ................................................\n",
      "[CV] .................... C=0.1, gamma=0.1, score=0.791, total=76.2min\n",
      "[CV] C=0.1, gamma=0.1 ................................................\n",
      "[CV] .................... C=0.1, gamma=0.1, score=0.791, total=80.7min\n",
      "[CV] C=0.1, gamma=0.1 ................................................\n",
      "[CV] .................... C=0.1, gamma=0.1, score=0.792, total=80.3min\n",
      "[CV] C=0.1, gamma=0.01 ...............................................\n"
     ]
    }
   ],
   "source": [
    "from sklearn.model_selection import GridSearchCV\n",
    "param_grid = {'C':[0.1, 1, 10, 100, 1000], 'gamma':[1, 0.1, 0.01, 0.001, 0.0001]}\n",
    "grid_multi = GridSearchCV(SVC(),param_grid, verbose=3)\n",
    "grid_multi.fit(X_train,y_train)"
   ]
  },
  {
   "cell_type": "code",
   "execution_count": 433,
   "metadata": {},
   "outputs": [
    {
     "data": {
      "text/plain": [
       "{'C': 1, 'gamma': 1}"
      ]
     },
     "execution_count": 433,
     "metadata": {},
     "output_type": "execute_result"
    }
   ],
   "source": [
    "grid_multi.best_params_"
   ]
  },
  {
   "cell_type": "code",
   "execution_count": 434,
   "metadata": {},
   "outputs": [],
   "source": [
    "predictions_grid_multi = grid_multi.predict(X_test)"
   ]
  },
  {
   "cell_type": "code",
   "execution_count": 435,
   "metadata": {},
   "outputs": [
    {
     "name": "stdout",
     "output_type": "stream",
     "text": [
      "[[2093    0    0    0]\n",
      " [   0 2130    0    0]\n",
      " [   0    0 2088    0]\n",
      " [   0    0    0 2137]]\n",
      "\n",
      "\n",
      "              precision    recall  f1-score   support\n",
      "\n",
      "         0.0       1.00      1.00      1.00      2093\n",
      "         1.0       1.00      1.00      1.00      2130\n",
      "         2.0       1.00      1.00      1.00      2088\n",
      "         3.0       1.00      1.00      1.00      2137\n",
      "\n",
      "    accuracy                           1.00      8448\n",
      "   macro avg       1.00      1.00      1.00      8448\n",
      "weighted avg       1.00      1.00      1.00      8448\n",
      "\n"
     ]
    }
   ],
   "source": [
    "print(confusion_matrix(y_test, predictions_grid_multi))\n",
    "print('\\n')\n",
    "print(classification_report(y_test,predictions_grid_multi))"
   ]
  },
  {
   "cell_type": "code",
   "execution_count": 436,
   "metadata": {},
   "outputs": [
    {
     "name": "stdout",
     "output_type": "stream",
     "text": [
      "[[4961    0    0   39]\n",
      " [   0 5000    0    0]\n",
      " [   0    0 5000    0]\n",
      " [  41    0   86 4873]]\n",
      "\n",
      "\n",
      "              precision    recall  f1-score   support\n",
      "\n",
      "         0.0       0.99      0.99      0.99      5000\n",
      "         1.0       1.00      1.00      1.00      5000\n",
      "         2.0       0.98      1.00      0.99      5000\n",
      "         3.0       0.99      0.97      0.98      5000\n",
      "\n",
      "    accuracy                           0.99     20000\n",
      "   macro avg       0.99      0.99      0.99     20000\n",
      "weighted avg       0.99      0.99      0.99     20000\n",
      "\n"
     ]
    }
   ],
   "source": [
    "# testing the held_out data\n",
    "predictions_heldout_multi = grid_multi.predict(X_heldout)\n",
    "print(confusion_matrix(y_heldout, predictions_heldout_multi))\n",
    "print('\\n')\n",
    "print(classification_report(y_heldout, predictions_heldout_multi))"
   ]
  },
  {
   "cell_type": "code",
   "execution_count": 2,
   "metadata": {},
   "outputs": [
    {
     "ename": "TypeError",
     "evalue": "unsupported operand type(s) for &: 'list' and 'list'",
     "output_type": "error",
     "traceback": [
      "\u001b[1;31m---------------------------------------------------------------------------\u001b[0m",
      "\u001b[1;31mTypeError\u001b[0m                                 Traceback (most recent call last)",
      "\u001b[1;32m<ipython-input-2-3b490d18e310>\u001b[0m in \u001b[0;36m<module>\u001b[1;34m\u001b[0m\n\u001b[1;32m----> 1\u001b[1;33m \u001b[1;33m[\u001b[0m\u001b[1;32mTrue\u001b[0m\u001b[1;33m,\u001b[0m \u001b[1;32mTrue\u001b[0m\u001b[1;33m]\u001b[0m \u001b[1;33m&\u001b[0m \u001b[1;33m[\u001b[0m\u001b[1;32mTrue\u001b[0m\u001b[1;33m,\u001b[0m \u001b[1;32mTrue\u001b[0m\u001b[1;33m]\u001b[0m\u001b[1;33m\u001b[0m\u001b[1;33m\u001b[0m\u001b[0m\n\u001b[0m",
      "\u001b[1;31mTypeError\u001b[0m: unsupported operand type(s) for &: 'list' and 'list'"
     ]
    }
   ],
   "source": [
    "[True, True] & [True, True]"
   ]
  },
  {
   "cell_type": "code",
   "execution_count": null,
   "metadata": {},
   "outputs": [],
   "source": []
  }
 ],
 "metadata": {
  "kernelspec": {
   "display_name": "SVMforLowDim",
   "language": "python",
   "name": "svmforlowdim"
  },
  "language_info": {
   "codemirror_mode": {
    "name": "ipython",
    "version": 3
   },
   "file_extension": ".py",
   "mimetype": "text/x-python",
   "name": "python",
   "nbconvert_exporter": "python",
   "pygments_lexer": "ipython3",
   "version": "3.8.5"
  }
 },
 "nbformat": 4,
 "nbformat_minor": 4
}
